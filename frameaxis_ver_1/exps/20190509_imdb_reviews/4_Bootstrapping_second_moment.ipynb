{
 "cells": [
  {
   "cell_type": "code",
   "execution_count": 1,
   "metadata": {},
   "outputs": [],
   "source": [
    "import pandas as pd\n",
    "import glob\n",
    "import logging\n",
    "import os\n",
    "import gc\n",
    "import numpy as np"
   ]
  },
  {
   "cell_type": "code",
   "execution_count": 2,
   "metadata": {},
   "outputs": [],
   "source": [
    "logging.basicConfig(level=logging.DEBUG,\n",
    "                    format='%(asctime)s %(name)-12s %(levelname)-8s %(message)s',\n",
    "                    datefmt=\"%Y-%m-%d %H:%M:%S\")\n",
    "logger = logging.getLogger(__name__)"
   ]
  },
  {
   "cell_type": "markdown",
   "metadata": {},
   "source": [
    "# by genre"
   ]
  },
  {
   "cell_type": "code",
   "execution_count": 18,
   "metadata": {},
   "outputs": [
    {
     "name": "stderr",
     "output_type": "stream",
     "text": [
      "2020-04-18 16:43:59 __main__     INFO     second_moment\n"
     ]
    },
    {
     "data": {
      "text/plain": [
       "1621"
      ]
     },
     "execution_count": 18,
     "metadata": {},
     "output_type": "execute_result"
    }
   ],
   "source": [
    "N = 1000\n",
    "mode = \"second_moment\"\n",
    "logger.info(mode)\n",
    "try:\n",
    "    os.mkdir(mode)\n",
    "except:\n",
    "    pass\n",
    "\n",
    "df = pd.read_csv(\"big_table_by_{}_with_corpus_mean.tsv\".format(mode), sep=\"\\t\").dropna()\n",
    "COLUMNS = [c for c in df.columns if '(' in c]\n",
    "len(COLUMNS)"
   ]
  },
  {
   "cell_type": "code",
   "execution_count": 12,
   "metadata": {},
   "outputs": [
    {
     "data": {
      "text/html": [
       "<div>\n",
       "<style scoped>\n",
       "    .dataframe tbody tr th:only-of-type {\n",
       "        vertical-align: middle;\n",
       "    }\n",
       "\n",
       "    .dataframe tbody tr th {\n",
       "        vertical-align: top;\n",
       "    }\n",
       "\n",
       "    .dataframe thead th {\n",
       "        text-align: right;\n",
       "    }\n",
       "</style>\n",
       "<table border=\"1\" class=\"dataframe\">\n",
       "  <thead>\n",
       "    <tr style=\"text-align: right;\">\n",
       "      <th></th>\n",
       "      <th>genre</th>\n",
       "      <th>rating</th>\n",
       "      <th>review</th>\n",
       "      <th>('abaxial', 'adaxial')</th>\n",
       "      <th>('able', 'unable')</th>\n",
       "      <th>('abnormal', 'normal')</th>\n",
       "      <th>('aboral', 'oral')</th>\n",
       "      <th>('abridged', 'unabridged')</th>\n",
       "      <th>('absent', 'present')</th>\n",
       "      <th>('absolute', 'relative')</th>\n",
       "      <th>...</th>\n",
       "      <th>('unwritten', 'written')</th>\n",
       "      <th>('useful', 'useless')</th>\n",
       "      <th>('valuable', 'worthless')</th>\n",
       "      <th>('vernal', 'wintry')</th>\n",
       "      <th>('virtuous', 'wicked')</th>\n",
       "      <th>('waning', 'waxing')</th>\n",
       "      <th>('weedless', 'weedy')</th>\n",
       "      <th>('weightless', 'weighty')</th>\n",
       "      <th>('winged', 'wingless')</th>\n",
       "      <th>('wired', 'wireless')</th>\n",
       "    </tr>\n",
       "  </thead>\n",
       "  <tbody>\n",
       "    <tr>\n",
       "      <th>0</th>\n",
       "      <td>Comedy</td>\n",
       "      <td>9</td>\n",
       "      <td>Imagine a movie where Joe Piscopo is actually ...</td>\n",
       "      <td>0.001591</td>\n",
       "      <td>0.009677</td>\n",
       "      <td>0.003300</td>\n",
       "      <td>0.002695</td>\n",
       "      <td>0.006457</td>\n",
       "      <td>0.002975</td>\n",
       "      <td>0.002992</td>\n",
       "      <td>...</td>\n",
       "      <td>0.012612</td>\n",
       "      <td>0.005585</td>\n",
       "      <td>0.008943</td>\n",
       "      <td>0.002514</td>\n",
       "      <td>0.011244</td>\n",
       "      <td>0.002398</td>\n",
       "      <td>0.002280</td>\n",
       "      <td>0.003019</td>\n",
       "      <td>0.001542</td>\n",
       "      <td>0.002124</td>\n",
       "    </tr>\n",
       "    <tr>\n",
       "      <th>1</th>\n",
       "      <td>Comedy</td>\n",
       "      <td>9</td>\n",
       "      <td>Maureen Stapleton is a scene stealer.</td>\n",
       "      <td>0.002600</td>\n",
       "      <td>0.025709</td>\n",
       "      <td>0.024226</td>\n",
       "      <td>0.076513</td>\n",
       "      <td>0.019221</td>\n",
       "      <td>0.026297</td>\n",
       "      <td>0.001577</td>\n",
       "      <td>...</td>\n",
       "      <td>0.043896</td>\n",
       "      <td>0.005668</td>\n",
       "      <td>0.007888</td>\n",
       "      <td>0.021660</td>\n",
       "      <td>0.006492</td>\n",
       "      <td>0.001270</td>\n",
       "      <td>0.004067</td>\n",
       "      <td>0.013257</td>\n",
       "      <td>0.021210</td>\n",
       "      <td>0.004048</td>\n",
       "    </tr>\n",
       "    <tr>\n",
       "      <th>2</th>\n",
       "      <td>Comedy</td>\n",
       "      <td>9</td>\n",
       "      <td>The Moroni character is an absolute scream.</td>\n",
       "      <td>0.001349</td>\n",
       "      <td>0.020703</td>\n",
       "      <td>0.016869</td>\n",
       "      <td>0.051779</td>\n",
       "      <td>0.013197</td>\n",
       "      <td>0.014152</td>\n",
       "      <td>0.056511</td>\n",
       "      <td>...</td>\n",
       "      <td>0.041556</td>\n",
       "      <td>0.018101</td>\n",
       "      <td>0.021254</td>\n",
       "      <td>0.009260</td>\n",
       "      <td>0.012821</td>\n",
       "      <td>0.001586</td>\n",
       "      <td>0.004707</td>\n",
       "      <td>0.006588</td>\n",
       "      <td>0.003724</td>\n",
       "      <td>0.003247</td>\n",
       "    </tr>\n",
       "    <tr>\n",
       "      <th>3</th>\n",
       "      <td>Comedy</td>\n",
       "      <td>9</td>\n",
       "      <td>Watch for Alan</td>\n",
       "      <td>0.001466</td>\n",
       "      <td>0.026506</td>\n",
       "      <td>0.005290</td>\n",
       "      <td>0.019537</td>\n",
       "      <td>0.007900</td>\n",
       "      <td>0.007419</td>\n",
       "      <td>0.001351</td>\n",
       "      <td>...</td>\n",
       "      <td>0.020795</td>\n",
       "      <td>0.011030</td>\n",
       "      <td>0.015309</td>\n",
       "      <td>0.005227</td>\n",
       "      <td>0.001902</td>\n",
       "      <td>0.001099</td>\n",
       "      <td>0.000929</td>\n",
       "      <td>0.011668</td>\n",
       "      <td>0.001993</td>\n",
       "      <td>0.000028</td>\n",
       "    </tr>\n",
       "    <tr>\n",
       "      <th>4</th>\n",
       "      <td>Comedy</td>\n",
       "      <td>9</td>\n",
       "      <td>The Skipper Hale jr.</td>\n",
       "      <td>0.004177</td>\n",
       "      <td>0.035576</td>\n",
       "      <td>0.005388</td>\n",
       "      <td>0.047293</td>\n",
       "      <td>0.006077</td>\n",
       "      <td>0.028875</td>\n",
       "      <td>0.000451</td>\n",
       "      <td>...</td>\n",
       "      <td>0.031162</td>\n",
       "      <td>0.004563</td>\n",
       "      <td>0.004494</td>\n",
       "      <td>0.011681</td>\n",
       "      <td>0.011232</td>\n",
       "      <td>0.001429</td>\n",
       "      <td>0.005174</td>\n",
       "      <td>0.008995</td>\n",
       "      <td>0.006997</td>\n",
       "      <td>0.001908</td>\n",
       "    </tr>\n",
       "  </tbody>\n",
       "</table>\n",
       "<p>5 rows × 1624 columns</p>\n",
       "</div>"
      ],
      "text/plain": [
       "    genre  rating                                             review  \\\n",
       "0  Comedy       9  Imagine a movie where Joe Piscopo is actually ...   \n",
       "1  Comedy       9              Maureen Stapleton is a scene stealer.   \n",
       "2  Comedy       9        The Moroni character is an absolute scream.   \n",
       "3  Comedy       9                                     Watch for Alan   \n",
       "4  Comedy       9                               The Skipper Hale jr.   \n",
       "\n",
       "   ('abaxial', 'adaxial')  ('able', 'unable')  ('abnormal', 'normal')  \\\n",
       "0                0.001591            0.009677                0.003300   \n",
       "1                0.002600            0.025709                0.024226   \n",
       "2                0.001349            0.020703                0.016869   \n",
       "3                0.001466            0.026506                0.005290   \n",
       "4                0.004177            0.035576                0.005388   \n",
       "\n",
       "   ('aboral', 'oral')  ('abridged', 'unabridged')  ('absent', 'present')  \\\n",
       "0            0.002695                    0.006457               0.002975   \n",
       "1            0.076513                    0.019221               0.026297   \n",
       "2            0.051779                    0.013197               0.014152   \n",
       "3            0.019537                    0.007900               0.007419   \n",
       "4            0.047293                    0.006077               0.028875   \n",
       "\n",
       "   ('absolute', 'relative')  ...  ('unwritten', 'written')  \\\n",
       "0                  0.002992  ...                  0.012612   \n",
       "1                  0.001577  ...                  0.043896   \n",
       "2                  0.056511  ...                  0.041556   \n",
       "3                  0.001351  ...                  0.020795   \n",
       "4                  0.000451  ...                  0.031162   \n",
       "\n",
       "   ('useful', 'useless')  ('valuable', 'worthless')  ('vernal', 'wintry')  \\\n",
       "0               0.005585                   0.008943              0.002514   \n",
       "1               0.005668                   0.007888              0.021660   \n",
       "2               0.018101                   0.021254              0.009260   \n",
       "3               0.011030                   0.015309              0.005227   \n",
       "4               0.004563                   0.004494              0.011681   \n",
       "\n",
       "   ('virtuous', 'wicked')  ('waning', 'waxing')  ('weedless', 'weedy')  \\\n",
       "0                0.011244              0.002398               0.002280   \n",
       "1                0.006492              0.001270               0.004067   \n",
       "2                0.012821              0.001586               0.004707   \n",
       "3                0.001902              0.001099               0.000929   \n",
       "4                0.011232              0.001429               0.005174   \n",
       "\n",
       "   ('weightless', 'weighty')  ('winged', 'wingless')  ('wired', 'wireless')  \n",
       "0                   0.003019                0.001542               0.002124  \n",
       "1                   0.013257                0.021210               0.004048  \n",
       "2                   0.006588                0.003724               0.003247  \n",
       "3                   0.011668                0.001993               0.000028  \n",
       "4                   0.008995                0.006997               0.001908  \n",
       "\n",
       "[5 rows x 1624 columns]"
      ]
     },
     "execution_count": 12,
     "metadata": {},
     "output_type": "execute_result"
    }
   ],
   "source": [
    "df.head()"
   ]
  },
  {
   "cell_type": "code",
   "execution_count": 13,
   "metadata": {},
   "outputs": [
    {
     "data": {
      "text/plain": [
       "Drama          1900\n",
       "Comedy         1419\n",
       "Romance         631\n",
       "Crime           540\n",
       "Action          503\n",
       "Adventure       452\n",
       "Fantasy         375\n",
       "Thriller        353\n",
       "Horror          259\n",
       "Biography       256\n",
       "Family          230\n",
       "Mystery         196\n",
       "Animation       194\n",
       "Sci-Fi          182\n",
       "Documentary     180\n",
       "Music           134\n",
       "History         120\n",
       "Musical          92\n",
       "War              88\n",
       "Short            72\n",
       "Sport            66\n",
       "Western          51\n",
       "Film-Noir        41\n",
       "Reality-TV        7\n",
       "Game-Show         5\n",
       "Adult             4\n",
       "Name: genre, dtype: int64"
      ]
     },
     "execution_count": 13,
     "metadata": {},
     "output_type": "execute_result"
    }
   ],
   "source": [
    "df['genre'].value_counts()"
   ]
  },
  {
   "cell_type": "code",
   "execution_count": 15,
   "metadata": {},
   "outputs": [
    {
     "data": {
      "text/plain": [
       "array([0.00161649, 0.0164216 , 0.00821991, ..., 0.00444221, 0.004455  ,\n",
       "       0.00434662])"
      ]
     },
     "execution_count": 15,
     "metadata": {},
     "output_type": "execute_result"
    }
   ],
   "source": [
    "corpus_mean = np.mean(df.drop(\n",
    "    columns=[c for c in df.columns if '(' not in c]).values, axis=0)\n",
    "corpus_mean"
   ]
  },
  {
   "cell_type": "code",
   "execution_count": 19,
   "metadata": {},
   "outputs": [
    {
     "name": "stderr",
     "output_type": "stream",
     "text": [
      "2020-04-18 16:44:20 __main__     INFO     Drama...\n",
      "2020-04-18 16:44:20 __main__     INFO     0\n",
      "2020-04-18 16:44:24 __main__     INFO     100\n",
      "2020-04-18 16:44:28 __main__     INFO     200\n",
      "2020-04-18 16:44:31 __main__     INFO     300\n",
      "2020-04-18 16:44:35 __main__     INFO     400\n",
      "2020-04-18 16:44:39 __main__     INFO     500\n",
      "2020-04-18 16:44:43 __main__     INFO     600\n",
      "2020-04-18 16:44:47 __main__     INFO     700\n",
      "2020-04-18 16:44:51 __main__     INFO     800\n",
      "2020-04-18 16:44:55 __main__     INFO     900\n",
      "2020-04-18 16:44:59 __main__     INFO     Comedy...\n",
      "2020-04-18 16:44:59 __main__     INFO     0\n",
      "2020-04-18 16:45:02 __main__     INFO     100\n",
      "2020-04-18 16:45:05 __main__     INFO     200\n",
      "2020-04-18 16:45:08 __main__     INFO     300\n",
      "2020-04-18 16:45:11 __main__     INFO     400\n",
      "2020-04-18 16:45:14 __main__     INFO     500\n",
      "2020-04-18 16:45:17 __main__     INFO     600\n",
      "2020-04-18 16:45:20 __main__     INFO     700\n",
      "2020-04-18 16:45:23 __main__     INFO     800\n",
      "2020-04-18 16:45:26 __main__     INFO     900\n"
     ]
    }
   ],
   "source": [
    "for genre, a_count in df['genre'].value_counts().iteritems():\n",
    "    if a_count < 1000:\n",
    "        continue\n",
    "\n",
    "    logger.info(\"{}...\".format(genre))\n",
    "    with open(\"{}/bootstrap_{}_second_moment_with_corpus_mean_by_genre.tsv\".format(mode, genre), \"w\") as fo:\n",
    "        fo.write(\"{}\\n\".format(\"\\t\".join(COLUMNS)))\n",
    "        A = df.drop(columns=[c for c in df.columns if '(' not in c]).values\n",
    "\n",
    "        for i in range(N):\n",
    "            if i % 100 == 0:\n",
    "                logger.info(i)\n",
    "            fmean = np.mean(A[np.random.choice(A.shape[0], a_count, replace=False), :], axis=0)\n",
    "            fo.write(\"{}\\n\".format(\"\\t\".join([str(v) for v in (fmean)])))        "
   ]
  },
  {
   "cell_type": "code",
   "execution_count": null,
   "metadata": {},
   "outputs": [],
   "source": []
  },
  {
   "cell_type": "code",
   "execution_count": null,
   "metadata": {},
   "outputs": [],
   "source": []
  }
 ],
 "metadata": {
  "kernelspec": {
   "display_name": "Python 3",
   "language": "python",
   "name": "python3"
  },
  "language_info": {
   "codemirror_mode": {
    "name": "ipython",
    "version": 3
   },
   "file_extension": ".py",
   "mimetype": "text/x-python",
   "name": "python",
   "nbconvert_exporter": "python",
   "pygments_lexer": "ipython3",
   "version": "3.7.4"
  }
 },
 "nbformat": 4,
 "nbformat_minor": 2
}
