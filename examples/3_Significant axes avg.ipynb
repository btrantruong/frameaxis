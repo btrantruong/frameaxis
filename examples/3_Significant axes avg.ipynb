{
 "cells": [
  {
   "cell_type": "code",
   "execution_count": 7,
   "metadata": {},
   "outputs": [],
   "source": [
    "import pandas as pd\n",
    "import glob\n",
    "import logging\n",
    "import os\n",
    "import numpy as np"
   ]
  },
  {
   "cell_type": "code",
   "execution_count": 8,
   "metadata": {},
   "outputs": [],
   "source": [
    "logging.basicConfig(level=logging.DEBUG,\n",
    "                    format='%(asctime)s %(name)-12s %(levelname)-8s %(message)s',\n",
    "                    datefmt=\"%Y-%m-%d %H:%M:%S\")\n",
    "logger = logging.getLogger(__name__)"
   ]
  },
  {
   "cell_type": "code",
   "execution_count": 9,
   "metadata": {},
   "outputs": [],
   "source": [
    "mode = \"average\""
   ]
  },
  {
   "cell_type": "code",
   "execution_count": 10,
   "metadata": {},
   "outputs": [],
   "source": [
    "df = pd.read_csv(\"big_table_by_{}.tsv\".format(mode), sep=\"\\t\").dropna()"
   ]
  },
  {
   "cell_type": "code",
   "execution_count": 11,
   "metadata": {},
   "outputs": [
    {
     "data": {
      "text/plain": [
       "1621"
      ]
     },
     "execution_count": 11,
     "metadata": {},
     "output_type": "execute_result"
    }
   ],
   "source": [
    "COLUMNS = [c for c in df.columns if '(' in c]\n",
    "len(COLUMNS)"
   ]
  },
  {
   "cell_type": "code",
   "execution_count": 12,
   "metadata": {},
   "outputs": [
    {
     "name": "stderr",
     "output_type": "stream",
     "text": [
      "2020-04-18 16:37:19 __main__     INFO     Drama...\n",
      "2020-04-18 16:37:20 __main__     INFO     Comedy...\n"
     ]
    }
   ],
   "source": [
    "N = 1000\n",
    "BOOTSTRAP_TEMPLATE = \"{}/bootstrap_{}_{}_by_genre.tsv\"\n",
    "OUT_TEMPLATE = \"{}/significant_axes_{}_{}_by_genre.tsv\"\n",
    "OUT_TEMPLATE2 = \"{}/effect_size_significant_axes_{}_{}_by_genre.tsv\"\n",
    "\n",
    "for genre, a_count in df['genre'].value_counts().iteritems():\n",
    "    if a_count < 1000:\n",
    "        continue\n",
    "        \n",
    "    results = []        \n",
    "    logger.info(\"{}...\".format(genre))\n",
    "    \n",
    "    df_actual = df.query('genre==@genre')\n",
    "    df_bootstrap = pd.read_csv(BOOTSTRAP_TEMPLATE.format(mode, genre, mode), sep=\"\\t\").dropna()\n",
    "\n",
    "    for axis in COLUMNS:\n",
    "        actual = np.mean(df_actual[axis], axis=0)\n",
    "        significance = sum(abs(df_bootstrap[axis]) > abs(actual))/float(N)\n",
    "        results.append([axis, actual-np.mean(df_bootstrap[axis], axis=0), significance])\n",
    "\n",
    "    pd.DataFrame(sorted(results, key=lambda x:x[2]), \n",
    "                 columns = [\"axis\", \"diff_a_b\", \"p\"]\n",
    "                ).to_csv(OUT_TEMPLATE.format(mode, genre, mode), sep=\"\\t\", index=False)\n",
    "\n",
    "    pd.DataFrame(sorted(results, key=lambda x:abs(x[1]), reverse=True), \n",
    "         columns = [\"axis\", \"diff_a_b\", \"p\"]\n",
    "        ).query('p <= 0.05').to_csv(OUT_TEMPLATE2.format(mode, genre, mode), sep=\"\\t\", index=False)"
   ]
  },
  {
   "cell_type": "code",
   "execution_count": null,
   "metadata": {},
   "outputs": [],
   "source": []
  }
 ],
 "metadata": {
  "kernelspec": {
   "display_name": "Python 3",
   "language": "python",
   "name": "python3"
  },
  "language_info": {
   "codemirror_mode": {
    "name": "ipython",
    "version": 3
   },
   "file_extension": ".py",
   "mimetype": "text/x-python",
   "name": "python",
   "nbconvert_exporter": "python",
   "pygments_lexer": "ipython3",
   "version": "3.7.4"
  }
 },
 "nbformat": 4,
 "nbformat_minor": 2
}
