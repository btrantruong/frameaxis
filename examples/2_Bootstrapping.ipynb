{
 "cells": [
  {
   "cell_type": "code",
   "execution_count": 1,
   "metadata": {},
   "outputs": [],
   "source": [
    "import pandas as pd\n",
    "import glob\n",
    "import logging\n",
    "import os\n",
    "import gc\n",
    "import numpy as np"
   ]
  },
  {
   "cell_type": "code",
   "execution_count": 2,
   "metadata": {},
   "outputs": [],
   "source": [
    "logging.basicConfig(level=logging.DEBUG,\n",
    "                    format='%(asctime)s %(name)-12s %(levelname)-8s %(message)s',\n",
    "                    datefmt=\"%Y-%m-%d %H:%M:%S\")\n",
    "logger = logging.getLogger(__name__)"
   ]
  },
  {
   "cell_type": "markdown",
   "metadata": {},
   "source": [
    "# Memory-efficient version (numpy)"
   ]
  },
  {
   "cell_type": "code",
   "execution_count": 3,
   "metadata": {},
   "outputs": [],
   "source": [
    "def bootstrapping(df, mode, COLUMNS):\n",
    "    for aspect in df['aspect'].unique():\n",
    "        for sentiment in ['positive', 'negative']:\n",
    "            df_r_count = df.query('aspect == @aspect and sentiment == @sentiment').shape[0]\n",
    "            with open(\"{}/bootstrap_{}_{}.tsv\".format(mode, aspect.replace(\"/\", \"-\"), sentiment), \"w\") as fo:\n",
    "                fo.write(\"{}\\n\".format(\"\\t\".join(COLUMNS)))\n",
    "#                 A = df.query('aspect == @aspect').drop(columns=[c for c in df.columns if '(' not in c]).values\n",
    "                A = df.drop(columns=[c for c in df.columns if '(' not in c]).values\n",
    "\n",
    "                for i in range(N):\n",
    "                    if i % 500 == 0:\n",
    "                        logger.info(\"{}-{}-{}\".format(aspect, sentiment, i))\n",
    "                    fmean = np.mean(A[np.random.choice(A.shape[0], df_r_count, replace=False), :], axis=0)\n",
    "                    fo.write(\"{}\\n\".format(\"\\t\".join([str(v) for v in (fmean)])))"
   ]
  },
  {
   "cell_type": "code",
   "execution_count": 4,
   "metadata": {},
   "outputs": [
    {
     "name": "stderr",
     "output_type": "stream",
     "text": [
      "2021-11-23 21:26:21 __main__     INFO     average\n"
     ]
    },
    {
     "data": {
      "text/plain": [
       "1621"
      ]
     },
     "execution_count": 4,
     "metadata": {},
     "output_type": "execute_result"
    }
   ],
   "source": [
    "N = 1000\n",
    "mode = \"average\"\n",
    "logger.info(mode)\n",
    "try:\n",
    "    os.mkdir(mode)\n",
    "except:\n",
    "    pass\n",
    "\n",
    "df = pd.read_csv(\"big_table_by_{}.tsv\".format(mode), sep=\"\\t\").dropna()\n",
    "COLUMNS = [c for c in df.columns if '(' in c]\n",
    "len(COLUMNS)"
   ]
  },
  {
   "cell_type": "code",
   "execution_count": 5,
   "metadata": {},
   "outputs": [
    {
     "name": "stderr",
     "output_type": "stream",
     "text": [
      "2021-11-23 21:26:23 numexpr.utils INFO     NumExpr defaulting to 4 threads.\n",
      "2021-11-23 21:26:23 __main__     INFO     service-positive-0\n",
      "2021-11-23 21:26:27 __main__     INFO     service-positive-500\n",
      "2021-11-23 21:26:31 __main__     INFO     service-negative-0\n",
      "2021-11-23 21:26:34 __main__     INFO     service-negative-500\n",
      "2021-11-23 21:26:37 __main__     INFO     food-positive-0\n",
      "2021-11-23 21:26:44 __main__     INFO     food-positive-500\n",
      "2021-11-23 21:26:51 __main__     INFO     food-negative-0\n",
      "2021-11-23 21:26:54 __main__     INFO     food-negative-500\n",
      "2021-11-23 21:26:57 __main__     INFO     anecdotes/miscellaneous-positive-0\n",
      "2021-11-23 21:27:03 __main__     INFO     anecdotes/miscellaneous-positive-500\n",
      "2021-11-23 21:27:09 __main__     INFO     anecdotes/miscellaneous-negative-0\n",
      "2021-11-23 21:27:12 __main__     INFO     anecdotes/miscellaneous-negative-500\n",
      "2021-11-23 21:27:14 __main__     INFO     price-positive-0\n",
      "2021-11-23 21:27:17 __main__     INFO     price-positive-500\n",
      "2021-11-23 21:27:20 __main__     INFO     price-negative-0\n",
      "2021-11-23 21:27:21 __main__     INFO     price-negative-500\n",
      "2021-11-23 21:27:23 __main__     INFO     ambience-positive-0\n",
      "2021-11-23 21:27:27 __main__     INFO     ambience-positive-500\n",
      "2021-11-23 21:27:30 __main__     INFO     ambience-negative-0\n",
      "2021-11-23 21:27:32 __main__     INFO     ambience-negative-500\n"
     ]
    }
   ],
   "source": [
    "bootstrapping(df, mode, COLUMNS)"
   ]
  },
  {
   "cell_type": "code",
   "execution_count": 6,
   "metadata": {},
   "outputs": [],
   "source": [
    "def bootstrapping(df, mode, COLUMNS):\n",
    "    for aspect in df['aspect'].unique():\n",
    "        for sentiment in ['positive', 'negative']:\n",
    "            df_r_count = df.query('aspect == @aspect and sentiment == @sentiment').shape[0]\n",
    "            with open(\"{}/bootstrap_{}_{}.tsv\".format(mode, aspect.replace(\"/\", \"-\"), sentiment), \"w\") as fo:\n",
    "                fo.write(\"{}\\n\".format(\"\\t\".join(COLUMNS)))\n",
    "#                 A = df.query('aspect == @aspect').drop(columns=[c for c in df.columns if '(' not in c]).values\n",
    "                A = df.drop(columns=[c for c in df.columns if '(' not in c]).values\n",
    "\n",
    "                for i in range(N):\n",
    "                    if i % 500 == 0:\n",
    "                        logger.info(\"{}-{}-{}\".format(aspect, sentiment, i))\n",
    "                    fmean = np.mean(A[np.random.choice(A.shape[0], df_r_count, replace=False), :], axis=0)\n",
    "                    fo.write(\"{}\\n\".format(\"\\t\".join([str(v) for v in (fmean)])))"
   ]
  },
  {
   "cell_type": "code",
   "execution_count": 7,
   "metadata": {},
   "outputs": [
    {
     "name": "stderr",
     "output_type": "stream",
     "text": [
      "2021-11-23 21:27:33 __main__     INFO     second_moment\n"
     ]
    },
    {
     "data": {
      "text/plain": [
       "1621"
      ]
     },
     "execution_count": 7,
     "metadata": {},
     "output_type": "execute_result"
    }
   ],
   "source": [
    "N = 1000\n",
    "mode = \"second_moment\"\n",
    "logger.info(mode)\n",
    "try:\n",
    "    os.mkdir(mode)\n",
    "except:\n",
    "    pass\n",
    "\n",
    "df = pd.read_csv(\"big_table_by_{}_with_corpus_mean.tsv\".format(mode), sep=\"\\t\").dropna()\n",
    "COLUMNS = [c for c in df.columns if '(' in c]\n",
    "len(COLUMNS)"
   ]
  },
  {
   "cell_type": "code",
   "execution_count": 8,
   "metadata": {},
   "outputs": [
    {
     "name": "stderr",
     "output_type": "stream",
     "text": [
      "2021-11-23 21:27:34 __main__     INFO     service-positive-0\n",
      "2021-11-23 21:27:38 __main__     INFO     service-positive-500\n",
      "2021-11-23 21:27:42 __main__     INFO     service-negative-0\n",
      "2021-11-23 21:27:45 __main__     INFO     service-negative-500\n",
      "2021-11-23 21:27:48 __main__     INFO     food-positive-0\n",
      "2021-11-23 21:27:55 __main__     INFO     food-positive-500\n",
      "2021-11-23 21:28:03 __main__     INFO     food-negative-0\n",
      "2021-11-23 21:28:06 __main__     INFO     food-negative-500\n",
      "2021-11-23 21:28:09 __main__     INFO     anecdotes/miscellaneous-positive-0\n",
      "2021-11-23 21:28:15 __main__     INFO     anecdotes/miscellaneous-positive-500\n",
      "2021-11-23 21:28:21 __main__     INFO     anecdotes/miscellaneous-negative-0\n",
      "2021-11-23 21:28:24 __main__     INFO     anecdotes/miscellaneous-negative-500\n",
      "2021-11-23 21:28:27 __main__     INFO     price-positive-0\n",
      "2021-11-23 21:28:30 __main__     INFO     price-positive-500\n",
      "2021-11-23 21:28:33 __main__     INFO     price-negative-0\n",
      "2021-11-23 21:28:34 __main__     INFO     price-negative-500\n",
      "2021-11-23 21:28:36 __main__     INFO     ambience-positive-0\n",
      "2021-11-23 21:28:40 __main__     INFO     ambience-positive-500\n",
      "2021-11-23 21:28:43 __main__     INFO     ambience-negative-0\n",
      "2021-11-23 21:28:45 __main__     INFO     ambience-negative-500\n"
     ]
    }
   ],
   "source": [
    "bootstrapping(df, mode, COLUMNS)"
   ]
  },
  {
   "cell_type": "code",
   "execution_count": null,
   "metadata": {},
   "outputs": [],
   "source": []
  },
  {
   "cell_type": "code",
   "execution_count": null,
   "metadata": {},
   "outputs": [],
   "source": []
  },
  {
   "cell_type": "code",
   "execution_count": null,
   "metadata": {},
   "outputs": [],
   "source": []
  },
  {
   "cell_type": "code",
   "execution_count": null,
   "metadata": {},
   "outputs": [],
   "source": []
  },
  {
   "cell_type": "code",
   "execution_count": null,
   "metadata": {},
   "outputs": [],
   "source": []
  },
  {
   "cell_type": "code",
   "execution_count": null,
   "metadata": {},
   "outputs": [],
   "source": []
  }
 ],
 "metadata": {
  "kernelspec": {
   "display_name": "Python 3",
   "language": "python",
   "name": "python3"
  },
  "language_info": {
   "codemirror_mode": {
    "name": "ipython",
    "version": 3
   },
   "file_extension": ".py",
   "mimetype": "text/x-python",
   "name": "python",
   "nbconvert_exporter": "python",
   "pygments_lexer": "ipython3",
   "version": "3.8.3"
  }
 },
 "nbformat": 4,
 "nbformat_minor": 2
}
